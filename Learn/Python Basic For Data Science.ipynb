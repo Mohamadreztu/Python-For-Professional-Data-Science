{
 "cells": [
  {
   "cell_type": "markdown",
   "id": "78e2fd4e",
   "metadata": {},
   "source": [
    "# Python For Data Professional Beginner"
   ]
  },
  {
   "cell_type": "markdown",
   "id": "583d41a1",
   "metadata": {},
   "source": [
    "Python adalah bahasa pemrograman yang ditujukan untuk general-purpose programming dan termasuk dalam kategori high-level programming language.\n",
    "\n",
    "Sebagai general-purpose programming language, Python digunakan untuk berbagai macam permasalahan seperti: pengembangan aplikasi web ataupun mobile, data science, dll.\n",
    "\n",
    "Python masuk ke dalam kategori high-level programming language dikarenakan bahasa pemrograman Python yang mudah untuk dibaca dan dituliskan oleh manusia.\n",
    "\n",
    "Bahasa  pemrograman  Python  diciptakan  oleh Guido van Rossum dan pertama kali diperkenalkan pada tahun 1991 sebagai sebuah proyek open-source.\n",
    "\n",
    "Sifat open-source dari Python mengartikan bahwa setiap orang dapat mengembangkan program komputer dengan menggunakan bahasa pemrograman Python baik untuk tujuan komersil/non-komersil."
   ]
  },
  {
   "cell_type": "markdown",
   "id": "e36d9a34",
   "metadata": {},
   "source": [
    "#### Apa dan Kenapa Python?"
   ]
  },
  {
   "cell_type": "markdown",
   "id": "faa8c4f8",
   "metadata": {},
   "source": [
    "Bahasa pemrograman Python bersifat dynamically typed (Python akan secara otomatis mengubah masukan dari pengguna) dan mendukung berbagai paradigma pemrograman baik pemrograman secara prosedural, berbasis objek (Object-Oriented), ataupun fungsional.\n",
    "\n",
    "Selain alasan di atas terdapat beberapa alasan lain untuk menggunakan bahasa pemrograman Python:\n",
    "\n",
    "Python dikembangkan untuk bersifat extendible yang mengartikan bahwa Python dapat dikembangkan untuk berbagai macam tugas baik untuk pembuatan aplikasi web ataupun desktop, proses analisis data, dll.\n",
    "Python memiliki komunitas yang besar yang secara aktif berkontribusi untuk menyediakan berbagai macam fungsionalitas (third-party libraries). Third-party libraries yang tersedia dalam bahasa pemrograman Python memungkinkan para pengembang untuk dapat fokus menyelesaikan permasalahan yang ada. Per Januari 2020, terdapat 214,922 modul third-party yang dapat kita gunakan secara cuma-cuma.\n",
    "Python terintegrasi dengan baik dengan berbagai macam bahasa pemrograman dan layanan enterprise. Untuk bagian-bagian yang melibatkan sumber daya komputasi yang besar, pengembang dapat menggunakan fungsionalitas dalam bahasa pemrograman lainnya yang bersifat low-level yang telah dikemas ke dalam fungsionalitas Python."
   ]
  },
  {
   "cell_type": "code",
   "execution_count": 1,
   "id": "55dc5734",
   "metadata": {},
   "outputs": [
    {
     "name": "stdout",
     "output_type": "stream",
     "text": [
      "Hello World!\n"
     ]
    }
   ],
   "source": [
    "print(\"Hello World!\")"
   ]
  },
  {
   "cell_type": "markdown",
   "id": "5313dded",
   "metadata": {},
   "source": [
    "#### Struktur Program Python"
   ]
  },
  {
   "cell_type": "markdown",
   "id": "e82ae8d1",
   "metadata": {},
   "source": [
    "program Python pada umumnya terdiri dari:\n",
    "\n",
    "1. Statements: Instruksi yang diberikan secara baris per baris untuk dijalankan oleh mesin. \n"
   ]
  },
  {
   "cell_type": "code",
   "execution_count": 2,
   "id": "7e755599",
   "metadata": {},
   "outputs": [
    {
     "name": "stdout",
     "output_type": "stream",
     "text": [
      "Belajar Python menyenangkan\n",
      "Halo Dunia\n",
      "Hello World!\n"
     ]
    }
   ],
   "source": [
    "# Statement\n",
    "print(\"Belajar Python menyenangkan\") \n",
    "print(\"Halo Dunia\")\n",
    "print(\"Hello World!\")"
   ]
  },
  {
   "cell_type": "markdown",
   "id": "eb22e9c5",
   "metadata": {},
   "source": [
    "2. Variables: Lokasi penyimpanan yang dapat digunakan untuk menampung sebuah data atau informasi. Contoh: aku mempunyai variabel yang bernama bilangan1, bilangan2, dan kalimat1"
   ]
  },
  {
   "cell_type": "code",
   "execution_count": 5,
   "id": "e2f3e121",
   "metadata": {},
   "outputs": [
    {
     "name": "stdout",
     "output_type": "stream",
     "text": [
      "5\n",
      "10\n"
     ]
    }
   ],
   "source": [
    "# Variables\n",
    "bilangan1 = 5\n",
    "bilangan2 = 10\n",
    "print(bilangan1)\n",
    "print(bilangan2)"
   ]
  },
  {
   "cell_type": "markdown",
   "id": "4b6c3bd1",
   "metadata": {},
   "source": [
    "3. Literals: Simbol-simbol yang dapat kita gunakan untuk mengisi suatu variabel. Pada kode yang telah dicontohkan di atas, angka 5 dan 10 serta 'Belajar Bahasa Python' disebut sebagai literal."
   ]
  },
  {
   "cell_type": "code",
   "execution_count": 6,
   "id": "114288a1",
   "metadata": {},
   "outputs": [
    {
     "name": "stdout",
     "output_type": "stream",
     "text": [
      "Belajar Bahasa Python\n"
     ]
    }
   ],
   "source": [
    "# literals\n",
    "kalimat1 = \"Belajar Bahasa Python\"\n",
    "print(kalimat1)"
   ]
  },
  {
   "cell_type": "markdown",
   "id": "73629b6c",
   "metadata": {},
   "source": [
    "4. Operators: Simbol-simbol yang dapat digunakan untuk mengubah nilai dari satu variabel dengan melibatkan satu atau lebih variabel dan literal."
   ]
  },
  {
   "cell_type": "code",
   "execution_count": 7,
   "id": "42775fd0",
   "metadata": {},
   "outputs": [
    {
     "name": "stdout",
     "output_type": "stream",
     "text": [
      "15\n"
     ]
    }
   ],
   "source": [
    "# Operators\n",
    "print(bilangan1 + bilangan2)"
   ]
  },
  {
   "cell_type": "markdown",
   "id": "b642276f",
   "metadata": {},
   "source": [
    "## Variables in General"
   ]
  },
  {
   "cell_type": "code",
   "execution_count": 8,
   "id": "b3b24aa0",
   "metadata": {},
   "outputs": [
    {
     "name": "stdout",
     "output_type": "stream",
     "text": [
      "Restu\n"
     ]
    }
   ],
   "source": [
    "user_1 = 'Restu'\n",
    "print(user_1)"
   ]
  },
  {
   "cell_type": "code",
   "execution_count": 11,
   "id": "2c185321",
   "metadata": {},
   "outputs": [
    {
     "name": "stdout",
     "output_type": "stream",
     "text": [
      "Andika\n"
     ]
    }
   ],
   "source": [
    "user_2 = 'Andika'\n",
    "print(user_2)"
   ]
  },
  {
   "cell_type": "code",
   "execution_count": 13,
   "id": "2a99d9c7",
   "metadata": {},
   "outputs": [
    {
     "name": "stdout",
     "output_type": "stream",
     "text": [
      "Serang Serang Serang\n"
     ]
    }
   ],
   "source": [
    "lokasi_1 = lokasi_2 = lokasi_3 = 'Serang'\n",
    "print(lokasi_1, lokasi_2, lokasi_3)"
   ]
  },
  {
   "cell_type": "code",
   "execution_count": 14,
   "id": "fecd77ed",
   "metadata": {},
   "outputs": [
    {
     "name": "stdout",
     "output_type": "stream",
     "text": [
      "('Cilegon', 'Serang', 'Merak') ('Cilegon', 'Serang', 'Merak') ('Cilegon', 'Serang', 'Merak')\n"
     ]
    }
   ],
   "source": [
    "lokasi_1 = lokasi_2 = lokasi_3 = 'Cilegon', 'Serang', 'Merak'\n",
    "print(lokasi_1, lokasi_2, lokasi_3)"
   ]
  },
  {
   "cell_type": "markdown",
   "id": "83cf969e",
   "metadata": {},
   "source": [
    "## Tipe Data Primitiv"
   ]
  },
  {
   "cell_type": "markdown",
   "id": "3a3e023d",
   "metadata": {},
   "source": [
    "#### String"
   ]
  },
  {
   "cell_type": "code",
   "execution_count": 20,
   "id": "71dd8d62",
   "metadata": {},
   "outputs": [
    {
     "name": "stdout",
     "output_type": "stream",
     "text": [
      "Mohamad Restu\n"
     ]
    }
   ],
   "source": [
    "nama_depan = 'Mohamad Restu'\n",
    "nama_belakang = 'Zikri Novdian'\n",
    "print(nama)"
   ]
  },
  {
   "cell_type": "code",
   "execution_count": 21,
   "id": "d537303d",
   "metadata": {},
   "outputs": [
    {
     "name": "stdout",
     "output_type": "stream",
     "text": [
      "Mohamad Restu Zikri Novdian\n"
     ]
    }
   ],
   "source": [
    "tambah_nama_akhir = nama_depan + \" Zikri Novdian\"\n",
    "print(tambah_nama_akhir)"
   ]
  },
  {
   "cell_type": "code",
   "execution_count": 23,
   "id": "0b9c9b1e",
   "metadata": {},
   "outputs": [
    {
     "name": "stdout",
     "output_type": "stream",
     "text": [
      "Mohamad Restu Zikri Novdian\n"
     ]
    }
   ],
   "source": [
    "tambah_nama_akhir = \"Mohamad Restu \" + nama_belakang\n",
    "print(tambah_nama_akhir)"
   ]
  },
  {
   "cell_type": "markdown",
   "id": "bfe8318f",
   "metadata": {},
   "source": [
    "#### Slicing String"
   ]
  },
  {
   "cell_type": "code",
   "execution_count": 24,
   "id": "ff32c824",
   "metadata": {},
   "outputs": [
    {
     "name": "stdout",
     "output_type": "stream",
     "text": [
      "Mohamad Restu Zikri Novdian\n"
     ]
    }
   ],
   "source": [
    "nama_lengkap = 'Mohamad Restu Zikri Novdian'\n",
    "print(nama_lengkap)"
   ]
  },
  {
   "cell_type": "code",
   "execution_count": 26,
   "id": "2151c59a",
   "metadata": {},
   "outputs": [
    {
     "name": "stdout",
     "output_type": "stream",
     "text": [
      "M\n",
      "o\n",
      "h\n",
      "a\n",
      "m\n",
      "a\n",
      "d\n"
     ]
    }
   ],
   "source": [
    "print(nama_lengkap[0])\n",
    "print(nama_lengkap[1])\n",
    "print(nama_lengkap[2])\n",
    "print(nama_lengkap[3])\n",
    "print(nama_lengkap[4])\n",
    "print(nama_lengkap[5])\n",
    "print(nama_lengkap[6])"
   ]
  },
  {
   "cell_type": "markdown",
   "id": "18e05c02",
   "metadata": {},
   "source": [
    "Jika slicing menggunakan [<index_awal> : <index_akhir>], index_akhir tidak mengikuti"
   ]
  },
  {
   "cell_type": "code",
   "execution_count": 28,
   "id": "0100dd21",
   "metadata": {},
   "outputs": [
    {
     "name": "stdout",
     "output_type": "stream",
     "text": [
      "Mohamad\n",
      "Restu Zi\n",
      "ri Novdian\n"
     ]
    }
   ],
   "source": [
    "print(nama_lengkap[ :7])\n",
    "print(nama_lengkap[8:16])\n",
    "print(nama_lengkap[17: ])"
   ]
  },
  {
   "cell_type": "markdown",
   "id": "ba65f088",
   "metadata": {},
   "source": [
    "#### String Formating"
   ]
  },
  {
   "cell_type": "markdown",
   "id": "f454891c",
   "metadata": {},
   "source": [
    "##### f-string"
   ]
  },
  {
   "cell_type": "code",
   "execution_count": 29,
   "id": "682e6a2a",
   "metadata": {},
   "outputs": [],
   "source": [
    "jalan = 'Pelawad'\n",
    "no = 23\n",
    "kecamatan = 'Ciruas'\n",
    "kelurahan = 'Citerep'"
   ]
  },
  {
   "cell_type": "code",
   "execution_count": 32,
   "id": "279c7328",
   "metadata": {},
   "outputs": [
    {
     "name": "stdout",
     "output_type": "stream",
     "text": [
      "alamat baru saya di Jalan Pelawad, No 23, Kecamatan Ciruas, Kelurahan Citerep\n",
      "<class 'str'>\n"
     ]
    }
   ],
   "source": [
    "alamat_baru = f'alamat baru saya di Jalan {jalan}, No {no}, Kecamatan {kecamatan}, Kelurahan {kelurahan}'\n",
    "print(alamat_baru)\n",
    "print(type(alamat_baru))"
   ]
  },
  {
   "cell_type": "markdown",
   "id": "1104132b",
   "metadata": {},
   "source": [
    "### Integer & Float"
   ]
  },
  {
   "cell_type": "markdown",
   "id": "14eecb00",
   "metadata": {},
   "source": [
    "##### Kalkulasi Integer"
   ]
  },
  {
   "cell_type": "code",
   "execution_count": 33,
   "id": "5e3aa9e8",
   "metadata": {},
   "outputs": [
    {
     "name": "stdout",
     "output_type": "stream",
     "text": [
      "<class 'int'>\n",
      "5\n",
      "2\n"
     ]
    }
   ],
   "source": [
    "jml_transaksi_1 = 5\n",
    "jml_transaksi_2 = 2\n",
    "\n",
    "print(type(jml_transaksi_1))\n",
    "print(jml_transaksi_1)\n",
    "print(jml_transaksi_2)"
   ]
  },
  {
   "cell_type": "code",
   "execution_count": 34,
   "id": "1e67cd16",
   "metadata": {},
   "outputs": [
    {
     "name": "stdout",
     "output_type": "stream",
     "text": [
      "7\n",
      "3\n",
      "10\n",
      "25\n",
      "2.5\n"
     ]
    }
   ],
   "source": [
    "print(jml_transaksi_1 + jml_transaksi_2)\n",
    "print(jml_transaksi_1 - jml_transaksi_2)\n",
    "print(jml_transaksi_1 * jml_transaksi_2)\n",
    "print(jml_transaksi_1 ** jml_transaksi_2)\n",
    "print(jml_transaksi_1 / jml_transaksi_2)"
   ]
  },
  {
   "cell_type": "markdown",
   "id": "12761dcc",
   "metadata": {},
   "source": [
    "##### Pembagian Integer Menjadi Float\n",
    "\n",
    "contoh mencari rata-rata"
   ]
  },
  {
   "cell_type": "code",
   "execution_count": 35,
   "id": "3a65ab3c",
   "metadata": {},
   "outputs": [
    {
     "name": "stdout",
     "output_type": "stream",
     "text": [
      "<class 'float'>\n",
      "3.5\n"
     ]
    }
   ],
   "source": [
    "rata_rata = (jml_transaksi_1 + jml_transaksi_2) / 2\n",
    "print(type(rata_rata))\n",
    "print(rata_rata)"
   ]
  },
  {
   "cell_type": "markdown",
   "id": "490d8dd4",
   "metadata": {},
   "source": [
    "pembagian tanpa pembulatan keduanya dengan pembulatan kebawah"
   ]
  },
  {
   "cell_type": "markdown",
   "id": "3c6105a7",
   "metadata": {},
   "source": [
    "##### Modulo pada bilangan integer"
   ]
  },
  {
   "cell_type": "code",
   "execution_count": 37,
   "id": "81bcaf6d",
   "metadata": {},
   "outputs": [
    {
     "name": "stdout",
     "output_type": "stream",
     "text": [
      "0\n",
      "0\n",
      "1\n",
      "0\n",
      "4\n",
      "3\n",
      "2\n"
     ]
    }
   ],
   "source": [
    "print(9 % 1)\n",
    "print(9 % 9)\n",
    "print(9 % 2)\n",
    "print(9 % 3)\n",
    "print(9 % 5)\n",
    "print(9 % 6)\n",
    "print(9 % 7)"
   ]
  },
  {
   "cell_type": "markdown",
   "id": "505d3664",
   "metadata": {},
   "source": [
    "#### Kalkulasi Float"
   ]
  },
  {
   "cell_type": "code",
   "execution_count": 38,
   "id": "960a4aca",
   "metadata": {},
   "outputs": [
    {
     "name": "stdout",
     "output_type": "stream",
     "text": [
      "18.665\n",
      "6.316\n"
     ]
    }
   ],
   "source": [
    "berat_1 = 18.665\n",
    "berat_2 = 6.316\n",
    "\n",
    "print(berat_1)\n",
    "print(berat_2)"
   ]
  },
  {
   "cell_type": "code",
   "execution_count": 39,
   "id": "b21c1a19",
   "metadata": {},
   "outputs": [
    {
     "name": "stdout",
     "output_type": "stream",
     "text": [
      "24.980999999999998\n",
      "12.349\n",
      "117.88813999999999\n",
      "0.33838735601392983\n",
      "-12.349\n"
     ]
    }
   ],
   "source": [
    "print(berat_1 + berat_2)\n",
    "print(berat_1 - berat_2)\n",
    "print(berat_1 * berat_2)\n",
    "print(berat_2 / berat_1)\n",
    "print((berat_1 - berat_2) * -1)"
   ]
  },
  {
   "cell_type": "code",
   "execution_count": 41,
   "id": "30fcbd6d",
   "metadata": {},
   "outputs": [
    {
     "name": "stdout",
     "output_type": "stream",
     "text": [
      "117.88813999999999\n",
      "2.955193160227992\n",
      "2.0\n"
     ]
    }
   ],
   "source": [
    "print(berat_1 * berat_2)\n",
    "print(berat_1 / berat_2)\n",
    "print(berat_1 // berat_2)"
   ]
  },
  {
   "cell_type": "markdown",
   "id": "f8214b48",
   "metadata": {},
   "source": [
    "##### Modulo pada bilangan float"
   ]
  },
  {
   "cell_type": "code",
   "execution_count": 42,
   "id": "299bf777",
   "metadata": {},
   "outputs": [
    {
     "name": "stdout",
     "output_type": "stream",
     "text": [
      "6.0329999999999995\n"
     ]
    }
   ],
   "source": [
    "print(berat_1 % berat_2)"
   ]
  },
  {
   "cell_type": "markdown",
   "id": "3a192702",
   "metadata": {},
   "source": [
    "#### Kalkulasi integer dengan float"
   ]
  },
  {
   "cell_type": "code",
   "execution_count": 43,
   "id": "a9586792",
   "metadata": {},
   "outputs": [
    {
     "name": "stdout",
     "output_type": "stream",
     "text": [
      "11.315999999999999\n",
      "1.3159999999999998\n"
     ]
    }
   ],
   "source": [
    "print(jml_transaksi_1 + berat_2)\n",
    "print(berat_2 - jml_transaksi_1)"
   ]
  },
  {
   "cell_type": "markdown",
   "id": "b9a5bee5",
   "metadata": {},
   "source": [
    "### Boolean"
   ]
  },
  {
   "cell_type": "code",
   "execution_count": 44,
   "id": "e1bac2a0",
   "metadata": {},
   "outputs": [
    {
     "name": "stdout",
     "output_type": "stream",
     "text": [
      "<class 'bool'>\n",
      "True\n",
      "False\n"
     ]
    }
   ],
   "source": [
    "is_employee = True\n",
    "is_car = False\n",
    "\n",
    "print(type(is_employee))\n",
    "print(is_employee)\n",
    "print(is_car)"
   ]
  },
  {
   "cell_type": "markdown",
   "id": "fa732cb2",
   "metadata": {},
   "source": [
    "## Tipe Data Collections"
   ]
  },
  {
   "cell_type": "markdown",
   "id": "6aae9939",
   "metadata": {},
   "source": [
    "### List"
   ]
  },
  {
   "cell_type": "code",
   "execution_count": 47,
   "id": "0e159ea2",
   "metadata": {},
   "outputs": [
    {
     "name": "stdout",
     "output_type": "stream",
     "text": [
      "<class 'list'>\n",
      "['Mangga', False, 'Jeruk', 98, -0.8679, ['a', 'b', 'c']]\n"
     ]
    }
   ],
   "source": [
    "mix_data_types = ['Mangga', False, 'Jeruk', 98, -0.8679, ['a', 'b', 'c']]\n",
    "print(type(mix_data_types))\n",
    "print(mix_data_types)"
   ]
  },
  {
   "cell_type": "code",
   "execution_count": 46,
   "id": "295958bf",
   "metadata": {},
   "outputs": [
    {
     "name": "stdout",
     "output_type": "stream",
     "text": [
      "['Mobil', 'Pesawat', 'Motor', 'Sepeda']\n"
     ]
    }
   ],
   "source": [
    "kendaraan = ['Mobil', 'Pesawat', 'Motor', 'Sepeda']\n",
    "print(kendaraan)"
   ]
  },
  {
   "cell_type": "markdown",
   "id": "72a2cbc8",
   "metadata": {},
   "source": [
    "#### Concatinate List\n",
    "\n",
    "Concat list berfungsi untuk menambahkan 1 list dengan list yang lain, menjadi list baru"
   ]
  },
  {
   "cell_type": "code",
   "execution_count": 49,
   "id": "534bff24",
   "metadata": {},
   "outputs": [
    {
     "name": "stdout",
     "output_type": "stream",
     "text": [
      "['Mangga', False, 'Jeruk', 98, -0.8679, ['a', 'b', 'c'], 'Mobil', 'Pesawat', 'Motor', 'Sepeda']\n"
     ]
    }
   ],
   "source": [
    "concat_list = mix_data_types + kendaraan\n",
    "print(concat_list)"
   ]
  },
  {
   "cell_type": "markdown",
   "id": "9e8035d5",
   "metadata": {},
   "source": [
    "### Build-in Functions in List"
   ]
  },
  {
   "cell_type": "markdown",
   "id": "391b7a2a",
   "metadata": {},
   "source": [
    "##### Sorted\n",
    "sorted() : Digunakan untuk menurutkan elemen dalam list, ascending maupun descending <br> <br>\n",
    "sorted() : Berfungsi jika semua elemen dalam list memiliki tipe data yang sama"
   ]
  },
  {
   "cell_type": "code",
   "execution_count": 51,
   "id": "37a055f4",
   "metadata": {},
   "outputs": [
    {
     "name": "stdout",
     "output_type": "stream",
     "text": [
      "['Mobil', 'Motor', 'Pesawat', 'Sepeda']\n",
      "['Mobil', 'Motor', 'Pesawat', 'Sepeda']\n",
      "['Sepeda', 'Pesawat', 'Motor', 'Mobil']\n"
     ]
    }
   ],
   "source": [
    "# print(sorted(mix_data_tyoes))\n",
    "print(sorted(kendaraan))\n",
    "print(sorted(kendaraan, reverse=False))\n",
    "print(sorted(kendaraan, reverse=True))"
   ]
  },
  {
   "cell_type": "markdown",
   "id": "74160556",
   "metadata": {},
   "source": [
    "##### Max & Min"
   ]
  },
  {
   "cell_type": "markdown",
   "id": "8c7fc50d",
   "metadata": {},
   "source": [
    "max() : Digunakan untuk mencari elemen dengan value terbesar dalam list<br><br>\n",
    "min() : Digunakan untuk mencari elemen dengan value terkecil dalam list<br><br>\n",
    "min() & max() : Berfungsi ketika semua elemen dalam list memiliki tipe data yang sama"
   ]
  },
  {
   "cell_type": "code",
   "execution_count": 52,
   "id": "42e21298",
   "metadata": {},
   "outputs": [
    {
     "name": "stdout",
     "output_type": "stream",
     "text": [
      "Sepeda\n",
      "Mobil\n"
     ]
    }
   ],
   "source": [
    "# print(max(mix_data_types))\n",
    "print(max(kendaraan))\n",
    "print(min(kendaraan))"
   ]
  },
  {
   "cell_type": "markdown",
   "id": "19a725e9",
   "metadata": {},
   "source": [
    "##### Menambah & Menghapus elemen dalam list"
   ]
  },
  {
   "cell_type": "code",
   "execution_count": 69,
   "id": "d30acd67",
   "metadata": {},
   "outputs": [
    {
     "name": "stdout",
     "output_type": "stream",
     "text": [
      "['Mobil', 'Pesawat', 'Motor', 'Sepeda']\n"
     ]
    }
   ],
   "source": [
    "kendaraan = ['Mobil', 'Pesawat', 'Motor', 'Sepeda']\n",
    "print(kendaraan)"
   ]
  },
  {
   "cell_type": "markdown",
   "id": "c4079b74",
   "metadata": {},
   "source": [
    "append (<value_baru>) : Menambahkan elemen baru pada index tertentu dalam suatu list"
   ]
  },
  {
   "cell_type": "code",
   "execution_count": 70,
   "id": "14a4cbb1",
   "metadata": {},
   "outputs": [
    {
     "name": "stdout",
     "output_type": "stream",
     "text": [
      "['Mobil', 'Pesawat', 'Motor', 'Sepeda', 'Jet']\n"
     ]
    }
   ],
   "source": [
    "kendaraan.append('Jet')\n",
    "print(kendaraan)"
   ]
  },
  {
   "cell_type": "markdown",
   "id": "c0f7b857",
   "metadata": {},
   "source": [
    "insert() : Menabahkan elemen baru pada inex tertentu dalam list"
   ]
  },
  {
   "cell_type": "code",
   "execution_count": 71,
   "id": "0fd8fed1",
   "metadata": {},
   "outputs": [
    {
     "name": "stdout",
     "output_type": "stream",
     "text": [
      "['Mobil', 'Pesawat', 'Kapal laut', 'Motor', 'Sepeda', 'Jet']\n"
     ]
    }
   ],
   "source": [
    "kendaraan.insert(2, 'Kapal laut')\n",
    "print(kendaraan)"
   ]
  },
  {
   "cell_type": "markdown",
   "id": "bd46963c",
   "metadata": {},
   "source": [
    "remove() : Menghapus elemen berdasarkan value"
   ]
  },
  {
   "cell_type": "code",
   "execution_count": 72,
   "id": "f539c63c",
   "metadata": {},
   "outputs": [
    {
     "name": "stdout",
     "output_type": "stream",
     "text": [
      "['Mobil', 'Pesawat', 'Motor', 'Sepeda', 'Jet']\n"
     ]
    }
   ],
   "source": [
    "kendaraan.remove('Kapal laut')\n",
    "print(kendaraan)"
   ]
  },
  {
   "cell_type": "markdown",
   "id": "9423f3df",
   "metadata": {},
   "source": [
    "del() : Menghapus elemen berdasarkan indexnya"
   ]
  },
  {
   "cell_type": "code",
   "execution_count": 73,
   "id": "0f38d303",
   "metadata": {},
   "outputs": [
    {
     "name": "stdout",
     "output_type": "stream",
     "text": [
      "['Mobil', 'Pesawat', 'Motor', 'Sepeda']\n"
     ]
    }
   ],
   "source": [
    "del kendaraan[-1]\n",
    "print(kendaraan)"
   ]
  },
  {
   "cell_type": "markdown",
   "id": "6b35603f",
   "metadata": {},
   "source": [
    "pop() : Mengambil elemen dari list berdsarkan indexnya, untuk dapat diproses lagi"
   ]
  },
  {
   "cell_type": "code",
   "execution_count": 74,
   "id": "aedfd72f",
   "metadata": {},
   "outputs": [
    {
     "name": "stdout",
     "output_type": "stream",
     "text": [
      "Motor\n",
      "['Mobil', 'Pesawat', 'Sepeda']\n"
     ]
    }
   ],
   "source": [
    "kendaraan_index_ke_2 = kendaraan.pop(2)\n",
    "\n",
    "print(kendaraan_index_ke_2)\n",
    "print(kendaraan)"
   ]
  },
  {
   "cell_type": "markdown",
   "id": "ec378f99",
   "metadata": {},
   "source": [
    "##### length dalam lists"
   ]
  },
  {
   "cell_type": "markdown",
   "id": "652d702f",
   "metadata": {},
   "source": [
    "len() : Digunakan untuk menghitung jumlah elemen dalam list"
   ]
  },
  {
   "cell_type": "code",
   "execution_count": 77,
   "id": "8d2634c3",
   "metadata": {},
   "outputs": [
    {
     "name": "stdout",
     "output_type": "stream",
     "text": [
      "['Mangga', False, 'Jeruk', 98, -0.8679, ['a', 'b', 'c']]\n"
     ]
    }
   ],
   "source": [
    "print(mix_data_types)"
   ]
  },
  {
   "cell_type": "code",
   "execution_count": 78,
   "id": "f9dee1c4",
   "metadata": {},
   "outputs": [
    {
     "name": "stdout",
     "output_type": "stream",
     "text": [
      "6\n"
     ]
    }
   ],
   "source": [
    "print(len(mix_data_types))"
   ]
  },
  {
   "cell_type": "markdown",
   "id": "5df36593",
   "metadata": {},
   "source": [
    "#### Slicing List"
   ]
  },
  {
   "cell_type": "code",
   "execution_count": null,
   "id": "258c118c",
   "metadata": {},
   "outputs": [],
   "source": [
    "kendaraan = ['Mobil', 'Pesawat', 'Motor', 'Sepeda']\n",
    "print(kendaraan)"
   ]
  },
  {
   "cell_type": "code",
   "execution_count": 79,
   "id": "7d0c4a19",
   "metadata": {},
   "outputs": [
    {
     "name": "stdout",
     "output_type": "stream",
     "text": [
      "Mobil\n",
      "Pesawat\n",
      "Sepeda\n",
      "Pesawat\n"
     ]
    }
   ],
   "source": [
    "print(kendaraan[0])\n",
    "print(kendaraan[1])\n",
    "\n",
    "print(kendaraan[-1])\n",
    "print(kendaraan[-2])"
   ]
  },
  {
   "cell_type": "markdown",
   "id": "bc4aab68",
   "metadata": {},
   "source": [
    "jika slicing menggunakan (:) index_trakhir tidak akan mengikuti"
   ]
  },
  {
   "cell_type": "code",
   "execution_count": 80,
   "id": "82445a58",
   "metadata": {},
   "outputs": [
    {
     "name": "stdout",
     "output_type": "stream",
     "text": [
      "['Mobil', 'Pesawat', 'Sepeda']\n",
      "['Mobil', 'Pesawat', 'Sepeda']\n"
     ]
    }
   ],
   "source": [
    "print(kendaraan[0:3])\n",
    "print(kendaraan[:3])"
   ]
  },
  {
   "cell_type": "code",
   "execution_count": 81,
   "id": "9d2619c4",
   "metadata": {},
   "outputs": [
    {
     "name": "stdout",
     "output_type": "stream",
     "text": [
      "['Mobil', 'Pesawat']\n",
      "['Mobil', 'Pesawat', 'Sepeda']\n"
     ]
    }
   ],
   "source": [
    "print(kendaraan[-3:-1])\n",
    "print(kendaraan[-3:])"
   ]
  },
  {
   "cell_type": "code",
   "execution_count": 82,
   "id": "3cb48337",
   "metadata": {},
   "outputs": [],
   "source": [
    "# assign kedalam variable baru\n",
    "kendaraan_baru = kendaraan[-3:-1]"
   ]
  },
  {
   "cell_type": "markdown",
   "id": "b492b7ba",
   "metadata": {},
   "source": [
    "## Tuple"
   ]
  },
  {
   "cell_type": "code",
   "execution_count": 87,
   "id": "183356ab",
   "metadata": {},
   "outputs": [
    {
     "name": "stdout",
     "output_type": "stream",
     "text": [
      "(1, 2, 3, 4, 5)\n"
     ]
    }
   ],
   "source": [
    "tuple_numbers = (1, 2, 3, 4, 5)\n",
    "\n",
    "print(tuple_numbers)"
   ]
  },
  {
   "cell_type": "code",
   "execution_count": 84,
   "id": "1443ea06",
   "metadata": {},
   "outputs": [
    {
     "name": "stdout",
     "output_type": "stream",
     "text": [
      "('a', 'i', 'Merupakan Adalah', 2, 6.431, 61.124, True, False)\n"
     ]
    }
   ],
   "source": [
    "mix_tuple = ('a', 'i', 'Merupakan Adalah', 2, 6.431, 61.124, True, False)\n",
    "\n",
    "print(mix_tuple)"
   ]
  },
  {
   "cell_type": "markdown",
   "id": "2a92d039",
   "metadata": {},
   "source": [
    "#### Contoh Tuple (Immutable)"
   ]
  },
  {
   "cell_type": "code",
   "execution_count": 85,
   "id": "d79fd49c",
   "metadata": {},
   "outputs": [
    {
     "name": "stdout",
     "output_type": "stream",
     "text": [
      "(1, 2, 3, 4, 5)\n"
     ]
    }
   ],
   "source": [
    "print(tuple_numbers)"
   ]
  },
  {
   "cell_type": "markdown",
   "id": "497a3a41",
   "metadata": {},
   "source": [
    "Tidak bisa melakukan perubahan elemen"
   ]
  },
  {
   "cell_type": "code",
   "execution_count": null,
   "id": "094c3da5",
   "metadata": {},
   "outputs": [],
   "source": [
    "print(tuple_numbers[0])\n",
    "\n",
    "tuple_numbers[0] = 99\n",
    "print(tuple_numbers)"
   ]
  },
  {
   "cell_type": "markdown",
   "id": "9850b0bd",
   "metadata": {},
   "source": [
    "Tidak bisa menghapus elemen tertentu dalam tuple"
   ]
  },
  {
   "cell_type": "code",
   "execution_count": null,
   "id": "ebc5ae49",
   "metadata": {},
   "outputs": [],
   "source": [
    "del tuple_numbers[0]"
   ]
  },
  {
   "cell_type": "markdown",
   "id": "14c73f30",
   "metadata": {},
   "source": [
    "#### Concate Tuple"
   ]
  },
  {
   "cell_type": "markdown",
   "id": "7b191aba",
   "metadata": {},
   "source": [
    "Karena tuple itu immutable, maka jika ingin menambahkan elemen baru harus disimpan ke dalam variable baru dengan cara di concate"
   ]
  },
  {
   "cell_type": "code",
   "execution_count": 91,
   "id": "42260f83",
   "metadata": {},
   "outputs": [
    {
     "data": {
      "text/plain": [
       "tuple"
      ]
     },
     "execution_count": 91,
     "metadata": {},
     "output_type": "execute_result"
    }
   ],
   "source": [
    "a = (6, 7, 8)\n",
    "type(a)"
   ]
  },
  {
   "cell_type": "code",
   "execution_count": 92,
   "id": "23784f01",
   "metadata": {},
   "outputs": [
    {
     "name": "stdout",
     "output_type": "stream",
     "text": [
      "(1, 2, 3, 4, 5)\n",
      "(1, 2, 3, 4, 5, 6, 7, 8)\n"
     ]
    }
   ],
   "source": [
    "print(tuple_numbers)\n",
    "tuple_new_numbers = tuple_numbers + a\n",
    "print(tuple_new_numbers)"
   ]
  },
  {
   "cell_type": "markdown",
   "id": "7d00f58b",
   "metadata": {},
   "source": [
    "#### Delete Tuple"
   ]
  },
  {
   "cell_type": "code",
   "execution_count": null,
   "id": "508ae63c",
   "metadata": {},
   "outputs": [],
   "source": [
    "print(tuple_numbers)\n",
    "\n",
    "#del tuple_numbers\n",
    "#print(tuple_numbers)"
   ]
  },
  {
   "cell_type": "markdown",
   "id": "41649401",
   "metadata": {},
   "source": [
    "#### Length"
   ]
  },
  {
   "cell_type": "code",
   "execution_count": 95,
   "id": "56812a73",
   "metadata": {},
   "outputs": [
    {
     "name": "stdout",
     "output_type": "stream",
     "text": [
      "(1, 2, 3, 4, 5)\n",
      "5\n"
     ]
    }
   ],
   "source": [
    "tuple_numbers = (1, 2, 3, 4, 5)\n",
    "\n",
    "print(tuple_numbers)\n",
    "print(len(tuple_numbers))"
   ]
  },
  {
   "cell_type": "markdown",
   "id": "48370903",
   "metadata": {},
   "source": [
    "#### Zip\n",
    "\n",
    "Zip untuk menggabungkan elemen per index dari beberapa tuple atau bisa juga list"
   ]
  },
  {
   "cell_type": "code",
   "execution_count": 96,
   "id": "076d2cce",
   "metadata": {},
   "outputs": [
    {
     "name": "stdout",
     "output_type": "stream",
     "text": [
      "('Pizza', 'Mie', 'Bubur', 'Soto')\n",
      "(1, 7, 15, 56)\n"
     ]
    }
   ],
   "source": [
    "makanan = ('Pizza', 'Mie', 'Bubur', 'Soto')\n",
    "jumlah = (1, 7, 15, 56)\n",
    "\n",
    "# nama = ['Budi', 'Andi', 'Riri', 'Roro']\n",
    "# umur = [33, 23, 26]\n",
    "\n",
    "print(makanan)\n",
    "print(jumlah)"
   ]
  },
  {
   "cell_type": "markdown",
   "id": "b4efee28",
   "metadata": {},
   "source": [
    "Hasil dari zip object, maka untuk bisa membaca hasil dari zip harus diconvert ke list atau tuple terlebih dahulu <br> <br>\n",
    "list atau tuple yang ingin di zip, harus memiliki jumlah elemen yang sama, jika tidak, elemen yang tidak ada pasangan tidak akan dibaca"
   ]
  },
  {
   "cell_type": "code",
   "execution_count": 97,
   "id": "1121a14d",
   "metadata": {},
   "outputs": [
    {
     "name": "stdout",
     "output_type": "stream",
     "text": [
      "<zip object at 0x000002F33F766F00>\n",
      "[('Pizza', 1), ('Mie', 7), ('Bubur', 15), ('Soto', 56)]\n"
     ]
    }
   ],
   "source": [
    "zipped = zip(makanan, jumlah)\n",
    "\n",
    "print(zipped)\n",
    "print(list(zipped))"
   ]
  },
  {
   "cell_type": "code",
   "execution_count": null,
   "id": "21f46c58",
   "metadata": {},
   "outputs": [],
   "source": [
    "zipped[0]"
   ]
  },
  {
   "cell_type": "markdown",
   "id": "0652675d",
   "metadata": {},
   "source": [
    "### Slicing Tuple"
   ]
  },
  {
   "cell_type": "code",
   "execution_count": 99,
   "id": "e9c882e3",
   "metadata": {},
   "outputs": [
    {
     "name": "stdout",
     "output_type": "stream",
     "text": [
      "1\n",
      "2\n",
      "5\n",
      "4\n"
     ]
    }
   ],
   "source": [
    "print(tuple_numbers[0])\n",
    "print(tuple_numbers[1])\n",
    "\n",
    "print(tuple_numbers[-1])\n",
    "print(tuple_numbers[-2])"
   ]
  },
  {
   "cell_type": "markdown",
   "id": "7bd52e3f",
   "metadata": {},
   "source": [
    "jika slicing menggunakan (:) maka, index_terakhir tidak ikut"
   ]
  },
  {
   "cell_type": "code",
   "execution_count": 101,
   "id": "5a0c035c",
   "metadata": {},
   "outputs": [
    {
     "name": "stdout",
     "output_type": "stream",
     "text": [
      "(1, 2, 3)\n",
      "(1, 2, 3)\n"
     ]
    }
   ],
   "source": [
    "print(tuple_numbers[0:3])\n",
    "print(tuple_numbers[:3])"
   ]
  },
  {
   "cell_type": "code",
   "execution_count": 102,
   "id": "4701303d",
   "metadata": {},
   "outputs": [
    {
     "name": "stdout",
     "output_type": "stream",
     "text": [
      "(3, 4)\n",
      "(3, 4, 5)\n"
     ]
    }
   ],
   "source": [
    "print(tuple_numbers[-3:-1])\n",
    "print(tuple_numbers[-3:])"
   ]
  },
  {
   "cell_type": "markdown",
   "id": "8e60cb58",
   "metadata": {},
   "source": [
    "## Set "
   ]
  },
  {
   "cell_type": "code",
   "execution_count": 2,
   "id": "d1e7a9d7",
   "metadata": {},
   "outputs": [
    {
     "name": "stdout",
     "output_type": "stream",
     "text": [
      "<class 'set'>\n",
      "{1, 2, 3, 4, 5}\n"
     ]
    }
   ],
   "source": [
    "set_numbers = {1, 2, 3, 4, 5}\n",
    "\n",
    "print(type(set_numbers))\n",
    "print(set_numbers)"
   ]
  },
  {
   "cell_type": "code",
   "execution_count": 5,
   "id": "85943c6e",
   "metadata": {},
   "outputs": [
    {
     "name": "stdout",
     "output_type": "stream",
     "text": [
      "{0.351, 1, 2, False, 8.134, 'ini Restu'}\n"
     ]
    }
   ],
   "source": [
    "mix_set = {1, 2, 0.351, 8.134, False, 'ini Restu'}\n",
    "print(mix_set)"
   ]
  },
  {
   "cell_type": "markdown",
   "id": "991eea50",
   "metadata": {},
   "source": [
    "#### Contoh set tidak mengandung duplikat elemen"
   ]
  },
  {
   "cell_type": "code",
   "execution_count": 6,
   "id": "c544b8d4",
   "metadata": {},
   "outputs": [
    {
     "name": "stdout",
     "output_type": "stream",
     "text": [
      "{1, 2, 3, 4, 5, 9}\n"
     ]
    }
   ],
   "source": [
    "random_set_numbers = {4, 5, 5, 9, 1, 2, 3, 3}\n",
    "print(random_set_numbers)"
   ]
  },
  {
   "cell_type": "markdown",
   "id": "a696adfe",
   "metadata": {},
   "source": [
    "#### Contoh set memiliki yang tidak berurutan"
   ]
  },
  {
   "cell_type": "markdown",
   "id": "4485ff2e",
   "metadata": {},
   "source": [
    "Set akan langsung mengurutkan elemen nya dari kecil ke besar dan menghapus duplikasi elemen oleh karena itu, tdak bisa mengakses per indexnya"
   ]
  },
  {
   "cell_type": "code",
   "execution_count": null,
   "id": "0c967d1f",
   "metadata": {},
   "outputs": [],
   "source": [
    "print(random_set_numbers[0])"
   ]
  },
  {
   "cell_type": "markdown",
   "id": "2c3fdc18",
   "metadata": {},
   "source": [
    "### Add & Remove Set"
   ]
  },
  {
   "cell_type": "code",
   "execution_count": 8,
   "id": "8d48d0da",
   "metadata": {},
   "outputs": [
    {
     "name": "stdout",
     "output_type": "stream",
     "text": [
      "{1, 2, 3, 4, 5, 9}\n"
     ]
    }
   ],
   "source": [
    "print(random_set_numbers)"
   ]
  },
  {
   "cell_type": "markdown",
   "id": "b88a326e",
   "metadata": {},
   "source": [
    "Menambahkan elemen baru pada index terakhir"
   ]
  },
  {
   "cell_type": "code",
   "execution_count": 12,
   "id": "151eb950",
   "metadata": {},
   "outputs": [
    {
     "name": "stdout",
     "output_type": "stream",
     "text": [
      "{1, 2, 3, 4, 6, 9, 10}\n"
     ]
    }
   ],
   "source": [
    "random_set_numbers.add(6)\n",
    "random_set_numbers.add(10)\n",
    "print(random_set_numbers)"
   ]
  },
  {
   "cell_type": "markdown",
   "id": "78179e97",
   "metadata": {},
   "source": [
    "Menghapus elemen berdasarkan value nya"
   ]
  },
  {
   "cell_type": "code",
   "execution_count": 11,
   "id": "69b0ec91",
   "metadata": {},
   "outputs": [
    {
     "name": "stdout",
     "output_type": "stream",
     "text": [
      "{1, 2, 3, 4, 6, 9}\n"
     ]
    }
   ],
   "source": [
    "random_set_numbers.remove(5)\n",
    "print(random_set_numbers)"
   ]
  },
  {
   "cell_type": "markdown",
   "id": "e1eabbc9",
   "metadata": {},
   "source": [
    "## Dictionary"
   ]
  },
  {
   "cell_type": "code",
   "execution_count": 18,
   "id": "09b19731",
   "metadata": {},
   "outputs": [
    {
     "name": "stdout",
     "output_type": "stream",
     "text": [
      "{'nama': 'Restu', 'Umur': 21, 'Sudah Menikah': False, 9: 'integer as key', True: 'Boolean as Key'}\n",
      "Restu\n",
      "integer as key\n",
      "Boolean as Key\n"
     ]
    }
   ],
   "source": [
    "dict_pelanggan = {'nama' : 'Restu', 'Umur' : 21, 'Sudah Menikah' : False, 9: 'integer as key', True : 'Boolean as Key'}\n",
    "\n",
    "print(dict_pelanggan)\n",
    "\n",
    "print(dict_pelanggan['nama'])\n",
    "print(dict_pelanggan[9])\n",
    "print(dict_pelanggan[True])"
   ]
  },
  {
   "cell_type": "markdown",
   "id": "ad80e5d2",
   "metadata": {},
   "source": [
    "#### Print All Keys, Values, & Key-Value Pairs"
   ]
  },
  {
   "cell_type": "code",
   "execution_count": 19,
   "id": "0da8160d",
   "metadata": {},
   "outputs": [
    {
     "name": "stdout",
     "output_type": "stream",
     "text": [
      "dict_keys(['nama', 'Umur', 'Sudah Menikah', 9, True])\n"
     ]
    }
   ],
   "source": [
    "print(dict_pelanggan.keys())"
   ]
  },
  {
   "cell_type": "code",
   "execution_count": 20,
   "id": "4ed136cc",
   "metadata": {},
   "outputs": [
    {
     "name": "stdout",
     "output_type": "stream",
     "text": [
      "{'nama': 'Restu', 'Umur': 21, 'Sudah Menikah': False, 9: 'integer as key', True: 'Boolean as Key', 'alamat': 'Jln.Raya Serang-Ciruas Desa Pelwad TCp Blok D2'}\n"
     ]
    }
   ],
   "source": [
    "# Add\n",
    "dict_pelanggan['alamat'] = 'Jln.Raya Serang-Ciruas Desa Pelwad TCp Blok D2'\n",
    "print(dict_pelanggan)"
   ]
  },
  {
   "cell_type": "code",
   "execution_count": 21,
   "id": "29f3840e",
   "metadata": {},
   "outputs": [
    {
     "name": "stdout",
     "output_type": "stream",
     "text": [
      "{'nama': 'Restu', 'Umur': 21, 'Sudah Menikah': False, 9: 'integer as key', True: 'Boolean as Key'}\n"
     ]
    }
   ],
   "source": [
    "del dict_pelanggan['alamat']\n",
    "\n",
    "print(dict_pelanggan)"
   ]
  },
  {
   "cell_type": "markdown",
   "id": "579a6459",
   "metadata": {},
   "source": [
    "## Def Function, While And For Loop"
   ]
  },
  {
   "cell_type": "markdown",
   "id": "ea1cf037",
   "metadata": {},
   "source": [
    "### For Loop"
   ]
  },
  {
   "cell_type": "code",
   "execution_count": 23,
   "id": "4a006ef4",
   "metadata": {},
   "outputs": [
    {
     "name": "stdout",
     "output_type": "stream",
     "text": [
      "This value is right =  2\n",
      "This value is right =  5\n",
      "This value is right =  8\n"
     ]
    }
   ],
   "source": [
    "# for i in range('range1', 'range2', step)\n",
    "\n",
    "for i in range(2, 10, 3):\n",
    "    print('This value is right = ', i)"
   ]
  },
  {
   "cell_type": "code",
   "execution_count": 24,
   "id": "264b5785",
   "metadata": {},
   "outputs": [
    {
     "name": "stdout",
     "output_type": "stream",
     "text": [
      "p.y.h.t.o.n."
     ]
    }
   ],
   "source": [
    "word = \"pyhton\"\n",
    "for i in word:\n",
    "    print(i, end=\".\")"
   ]
  },
  {
   "cell_type": "code",
   "execution_count": 31,
   "id": "75335de0",
   "metadata": {},
   "outputs": [
    {
     "name": "stdout",
     "output_type": "stream",
     "text": [
      "1-2-3-4-5-6-7-8-9-10-"
     ]
    }
   ],
   "source": [
    "for i in range(1,11):\n",
    "    print(i, end='-')\n",
    "    if i+5 == 35:\n",
    "        break"
   ]
  },
  {
   "cell_type": "code",
   "execution_count": 32,
   "id": "7136f4cf",
   "metadata": {},
   "outputs": [
    {
     "name": "stdout",
     "output_type": "stream",
     "text": [
      "Restu 2Restu 3Restu 4Restu 5Restu 6Restu 7Restu 8"
     ]
    }
   ],
   "source": [
    "for i in range(2,11):\n",
    "    if i == 9:\n",
    "        break\n",
    "    print(\"Restu\", i, end='')"
   ]
  },
  {
   "cell_type": "code",
   "execution_count": 34,
   "id": "052f100a",
   "metadata": {},
   "outputs": [
    {
     "name": "stdout",
     "output_type": "stream",
     "text": [
      "The break instruction: \n",
      "inside the loop 1\n",
      "Outside the loop\n",
      "inside the loop 2\n",
      "Outside the loop\n",
      "inside the loop 3\n",
      "Outside the loop\n"
     ]
    }
   ],
   "source": [
    "print(\"The break instruction: \")\n",
    "for i in range(1,5):\n",
    "    if i == 4:\n",
    "        break\n",
    "    print(\"inside the loop\", i)\n",
    "    print(\"Outside the loop\")"
   ]
  },
  {
   "cell_type": "markdown",
   "id": "7fed8765",
   "metadata": {},
   "source": [
    "### Def"
   ]
  },
  {
   "cell_type": "code",
   "execution_count": 39,
   "id": "0c804cd8",
   "metadata": {},
   "outputs": [
    {
     "data": {
      "text/html": [
       "<div>\n",
       "<style scoped>\n",
       "    .dataframe tbody tr th:only-of-type {\n",
       "        vertical-align: middle;\n",
       "    }\n",
       "\n",
       "    .dataframe tbody tr th {\n",
       "        vertical-align: top;\n",
       "    }\n",
       "\n",
       "    .dataframe thead th {\n",
       "        text-align: right;\n",
       "    }\n",
       "</style>\n",
       "<table border=\"1\" class=\"dataframe\">\n",
       "  <thead>\n",
       "    <tr style=\"text-align: right;\">\n",
       "      <th></th>\n",
       "      <th>Nama</th>\n",
       "      <th>Age</th>\n",
       "    </tr>\n",
       "  </thead>\n",
       "  <tbody>\n",
       "    <tr>\n",
       "      <th>No.1</th>\n",
       "      <td>Restu</td>\n",
       "      <td>1</td>\n",
       "    </tr>\n",
       "    <tr>\n",
       "      <th>No.2</th>\n",
       "      <td>Ridho</td>\n",
       "      <td>2</td>\n",
       "    </tr>\n",
       "    <tr>\n",
       "      <th>No.3</th>\n",
       "      <td>Ridha</td>\n",
       "      <td>3</td>\n",
       "    </tr>\n",
       "    <tr>\n",
       "      <th>No.4</th>\n",
       "      <td>Radit</td>\n",
       "      <td>4</td>\n",
       "    </tr>\n",
       "    <tr>\n",
       "      <th>No.5</th>\n",
       "      <td>Rara</td>\n",
       "      <td>5</td>\n",
       "    </tr>\n",
       "  </tbody>\n",
       "</table>\n",
       "</div>"
      ],
      "text/plain": [
       "       Nama  Age\n",
       "No.1  Restu    1\n",
       "No.2  Ridho    2\n",
       "No.3  Ridha    3\n",
       "No.4  Radit    4\n",
       "No.5   Rara    5"
      ]
     },
     "execution_count": 39,
     "metadata": {},
     "output_type": "execute_result"
    }
   ],
   "source": [
    "import pandas as pd\n",
    "data = {\"Nama\" : ['Restu', 'Ridho', 'Ridha', 'Radit', 'Rara'], 'Age' : [1, 2, 3, 4, 5]}\n",
    "df=pd.DataFrame(data, index=['No.1', 'No.2', 'No.3', 'No.4', 'No.5'])\n",
    "df"
   ]
  },
  {
   "cell_type": "code",
   "execution_count": 40,
   "id": "d502454f",
   "metadata": {},
   "outputs": [],
   "source": [
    "def age(i):\n",
    "    for i in range (i):\n",
    "        if i > 3: result = 'Balita'\n",
    "        else : result = 'Batita'\n",
    "    return result"
   ]
  },
  {
   "cell_type": "code",
   "execution_count": 41,
   "id": "febd4e2f",
   "metadata": {},
   "outputs": [],
   "source": [
    "df['Kriteria'] = df['Age'].apply(age)"
   ]
  },
  {
   "cell_type": "code",
   "execution_count": 42,
   "id": "0de0fdd9",
   "metadata": {},
   "outputs": [
    {
     "data": {
      "text/html": [
       "<div>\n",
       "<style scoped>\n",
       "    .dataframe tbody tr th:only-of-type {\n",
       "        vertical-align: middle;\n",
       "    }\n",
       "\n",
       "    .dataframe tbody tr th {\n",
       "        vertical-align: top;\n",
       "    }\n",
       "\n",
       "    .dataframe thead th {\n",
       "        text-align: right;\n",
       "    }\n",
       "</style>\n",
       "<table border=\"1\" class=\"dataframe\">\n",
       "  <thead>\n",
       "    <tr style=\"text-align: right;\">\n",
       "      <th></th>\n",
       "      <th>Nama</th>\n",
       "      <th>Age</th>\n",
       "      <th>Kriteria</th>\n",
       "    </tr>\n",
       "  </thead>\n",
       "  <tbody>\n",
       "    <tr>\n",
       "      <th>No.1</th>\n",
       "      <td>Restu</td>\n",
       "      <td>1</td>\n",
       "      <td>Batita</td>\n",
       "    </tr>\n",
       "    <tr>\n",
       "      <th>No.2</th>\n",
       "      <td>Ridho</td>\n",
       "      <td>2</td>\n",
       "      <td>Batita</td>\n",
       "    </tr>\n",
       "    <tr>\n",
       "      <th>No.3</th>\n",
       "      <td>Ridha</td>\n",
       "      <td>3</td>\n",
       "      <td>Batita</td>\n",
       "    </tr>\n",
       "    <tr>\n",
       "      <th>No.4</th>\n",
       "      <td>Radit</td>\n",
       "      <td>4</td>\n",
       "      <td>Batita</td>\n",
       "    </tr>\n",
       "    <tr>\n",
       "      <th>No.5</th>\n",
       "      <td>Rara</td>\n",
       "      <td>5</td>\n",
       "      <td>Balita</td>\n",
       "    </tr>\n",
       "  </tbody>\n",
       "</table>\n",
       "</div>"
      ],
      "text/plain": [
       "       Nama  Age Kriteria\n",
       "No.1  Restu    1   Batita\n",
       "No.2  Ridho    2   Batita\n",
       "No.3  Ridha    3   Batita\n",
       "No.4  Radit    4   Batita\n",
       "No.5   Rara    5   Balita"
      ]
     },
     "execution_count": 42,
     "metadata": {},
     "output_type": "execute_result"
    }
   ],
   "source": [
    "df"
   ]
  },
  {
   "cell_type": "code",
   "execution_count": 46,
   "id": "0d20466c",
   "metadata": {},
   "outputs": [],
   "source": [
    "def beranjak(start):\n",
    "    #future = \"\"\n",
    "    if start == 'Batita' : future = 'Anak-anak'\n",
    "    elif start == 'Balita' : future = 'Remaja'\n",
    "    else : future = 'Dewasa'\n",
    "    return future"
   ]
  },
  {
   "cell_type": "code",
   "execution_count": 47,
   "id": "88870d4d",
   "metadata": {},
   "outputs": [],
   "source": [
    "df['Future'] = df['Kriteria'].apply(beranjak)"
   ]
  },
  {
   "cell_type": "code",
   "execution_count": 48,
   "id": "145009c5",
   "metadata": {},
   "outputs": [
    {
     "data": {
      "text/html": [
       "<div>\n",
       "<style scoped>\n",
       "    .dataframe tbody tr th:only-of-type {\n",
       "        vertical-align: middle;\n",
       "    }\n",
       "\n",
       "    .dataframe tbody tr th {\n",
       "        vertical-align: top;\n",
       "    }\n",
       "\n",
       "    .dataframe thead th {\n",
       "        text-align: right;\n",
       "    }\n",
       "</style>\n",
       "<table border=\"1\" class=\"dataframe\">\n",
       "  <thead>\n",
       "    <tr style=\"text-align: right;\">\n",
       "      <th></th>\n",
       "      <th>Nama</th>\n",
       "      <th>Age</th>\n",
       "      <th>Kriteria</th>\n",
       "      <th>Future</th>\n",
       "    </tr>\n",
       "  </thead>\n",
       "  <tbody>\n",
       "    <tr>\n",
       "      <th>No.1</th>\n",
       "      <td>Restu</td>\n",
       "      <td>1</td>\n",
       "      <td>Batita</td>\n",
       "      <td>Anak-anak</td>\n",
       "    </tr>\n",
       "    <tr>\n",
       "      <th>No.2</th>\n",
       "      <td>Ridho</td>\n",
       "      <td>2</td>\n",
       "      <td>Batita</td>\n",
       "      <td>Anak-anak</td>\n",
       "    </tr>\n",
       "    <tr>\n",
       "      <th>No.3</th>\n",
       "      <td>Ridha</td>\n",
       "      <td>3</td>\n",
       "      <td>Batita</td>\n",
       "      <td>Anak-anak</td>\n",
       "    </tr>\n",
       "    <tr>\n",
       "      <th>No.4</th>\n",
       "      <td>Radit</td>\n",
       "      <td>4</td>\n",
       "      <td>Batita</td>\n",
       "      <td>Anak-anak</td>\n",
       "    </tr>\n",
       "    <tr>\n",
       "      <th>No.5</th>\n",
       "      <td>Rara</td>\n",
       "      <td>5</td>\n",
       "      <td>Balita</td>\n",
       "      <td>Remaja</td>\n",
       "    </tr>\n",
       "  </tbody>\n",
       "</table>\n",
       "</div>"
      ],
      "text/plain": [
       "       Nama  Age Kriteria     Future\n",
       "No.1  Restu    1   Batita  Anak-anak\n",
       "No.2  Ridho    2   Batita  Anak-anak\n",
       "No.3  Ridha    3   Batita  Anak-anak\n",
       "No.4  Radit    4   Batita  Anak-anak\n",
       "No.5   Rara    5   Balita     Remaja"
      ]
     },
     "execution_count": 48,
     "metadata": {},
     "output_type": "execute_result"
    }
   ],
   "source": [
    "df"
   ]
  },
  {
   "cell_type": "markdown",
   "id": "1af016e2",
   "metadata": {},
   "source": [
    "### While"
   ]
  },
  {
   "cell_type": "code",
   "execution_count": 49,
   "id": "4442e58c",
   "metadata": {},
   "outputs": [
    {
     "name": "stdout",
     "output_type": "stream",
     "text": [
      "1\n",
      "2\n"
     ]
    }
   ],
   "source": [
    "i = 1\n",
    "while 3 > i:\n",
    "    print(i)\n",
    "    #increment\n",
    "    i += 1"
   ]
  },
  {
   "cell_type": "code",
   "execution_count": null,
   "id": "87d2b08e",
   "metadata": {},
   "outputs": [],
   "source": [
    "#bad practice\n",
    "i = 3\n",
    "while i > 1:\n",
    "    print(i)\n",
    "    i += 1"
   ]
  },
  {
   "cell_type": "code",
   "execution_count": 51,
   "id": "5f096e4a",
   "metadata": {},
   "outputs": [
    {
     "name": "stdout",
     "output_type": "stream",
     "text": [
      "1\n",
      "2\n",
      "3\n",
      "4\n",
      "5\n",
      "6\n",
      "7\n",
      "8\n",
      "9\n"
     ]
    }
   ],
   "source": [
    "i = 1\n",
    "while i > 0:\n",
    "    print(i)\n",
    "    i += 1\n",
    "    if i == 10:\n",
    "        break"
   ]
  },
  {
   "cell_type": "code",
   "execution_count": 53,
   "id": "f09cef4e",
   "metadata": {},
   "outputs": [],
   "source": [
    "lower_limit = 1\n",
    "upper_limit = 100\n",
    "\n",
    "def genap(lower_limit, upper_limit):\n",
    "    nomor_genap = []\n",
    "    i = lower_limit\n",
    "    while i <= upper_limit:\n",
    "        if i%2  == 0:\n",
    "            nomor_genap.append(i)\n",
    "        i+=1\n",
    "    return nomor_genap"
   ]
  },
  {
   "cell_type": "code",
   "execution_count": 54,
   "id": "1ed267ef",
   "metadata": {},
   "outputs": [
    {
     "data": {
      "text/plain": [
       "[2,\n",
       " 4,\n",
       " 6,\n",
       " 8,\n",
       " 10,\n",
       " 12,\n",
       " 14,\n",
       " 16,\n",
       " 18,\n",
       " 20,\n",
       " 22,\n",
       " 24,\n",
       " 26,\n",
       " 28,\n",
       " 30,\n",
       " 32,\n",
       " 34,\n",
       " 36,\n",
       " 38,\n",
       " 40,\n",
       " 42,\n",
       " 44,\n",
       " 46,\n",
       " 48,\n",
       " 50,\n",
       " 52,\n",
       " 54,\n",
       " 56,\n",
       " 58,\n",
       " 60,\n",
       " 62,\n",
       " 64,\n",
       " 66,\n",
       " 68,\n",
       " 70,\n",
       " 72,\n",
       " 74,\n",
       " 76,\n",
       " 78,\n",
       " 80,\n",
       " 82,\n",
       " 84,\n",
       " 86,\n",
       " 88,\n",
       " 90,\n",
       " 92,\n",
       " 94,\n",
       " 96,\n",
       " 98,\n",
       " 100]"
      ]
     },
     "execution_count": 54,
     "metadata": {},
     "output_type": "execute_result"
    }
   ],
   "source": [
    "genap(lower_limit, upper_limit)"
   ]
  },
  {
   "cell_type": "markdown",
   "id": "701a6696",
   "metadata": {},
   "source": [
    "## List Convert"
   ]
  },
  {
   "cell_type": "code",
   "execution_count": 55,
   "id": "656e25a0",
   "metadata": {},
   "outputs": [],
   "source": [
    "list = ['10', 10, 'Manis', 'Boleh', True, 98.8987]"
   ]
  },
  {
   "cell_type": "code",
   "execution_count": 58,
   "id": "503ec813",
   "metadata": {},
   "outputs": [],
   "source": [
    "df_list = pd.DataFrame(list)"
   ]
  },
  {
   "cell_type": "code",
   "execution_count": 59,
   "id": "211e5efc",
   "metadata": {},
   "outputs": [
    {
     "data": {
      "text/html": [
       "<div>\n",
       "<style scoped>\n",
       "    .dataframe tbody tr th:only-of-type {\n",
       "        vertical-align: middle;\n",
       "    }\n",
       "\n",
       "    .dataframe tbody tr th {\n",
       "        vertical-align: top;\n",
       "    }\n",
       "\n",
       "    .dataframe thead th {\n",
       "        text-align: right;\n",
       "    }\n",
       "</style>\n",
       "<table border=\"1\" class=\"dataframe\">\n",
       "  <thead>\n",
       "    <tr style=\"text-align: right;\">\n",
       "      <th></th>\n",
       "      <th>0</th>\n",
       "    </tr>\n",
       "  </thead>\n",
       "  <tbody>\n",
       "    <tr>\n",
       "      <th>0</th>\n",
       "      <td>10</td>\n",
       "    </tr>\n",
       "    <tr>\n",
       "      <th>1</th>\n",
       "      <td>10</td>\n",
       "    </tr>\n",
       "    <tr>\n",
       "      <th>2</th>\n",
       "      <td>Manis</td>\n",
       "    </tr>\n",
       "    <tr>\n",
       "      <th>3</th>\n",
       "      <td>Boleh</td>\n",
       "    </tr>\n",
       "    <tr>\n",
       "      <th>4</th>\n",
       "      <td>True</td>\n",
       "    </tr>\n",
       "    <tr>\n",
       "      <th>5</th>\n",
       "      <td>98.8987</td>\n",
       "    </tr>\n",
       "  </tbody>\n",
       "</table>\n",
       "</div>"
      ],
      "text/plain": [
       "         0\n",
       "0       10\n",
       "1       10\n",
       "2    Manis\n",
       "3    Boleh\n",
       "4     True\n",
       "5  98.8987"
      ]
     },
     "execution_count": 59,
     "metadata": {},
     "output_type": "execute_result"
    }
   ],
   "source": [
    "df_list"
   ]
  },
  {
   "cell_type": "code",
   "execution_count": 61,
   "id": "a20ea48e",
   "metadata": {},
   "outputs": [
    {
     "name": "stdout",
     "output_type": "stream",
     "text": [
      "      Key  Values\n",
      "0     Fav      11\n",
      "1   Tutor      22\n",
      "2  Coding      33\n",
      "3  Skills      44\n"
     ]
    }
   ],
   "source": [
    "# List 1\n",
    "ls1 = [['Fav', 11], ['Tutor', 22], ['Coding', 33], ['Skills', 44]]\n",
    "df = pd.DataFrame(ls1, columns = ['Key', 'Values'])\n",
    "print(df)"
   ]
  },
  {
   "cell_type": "code",
   "execution_count": 62,
   "id": "ef467caf",
   "metadata": {},
   "outputs": [
    {
     "name": "stdout",
     "output_type": "stream",
     "text": [
      "   Fruits   Color  Value\n",
      "0   Apple     Red   11.0\n",
      "1   Grape   Green   22.0\n",
      "2  Orange  Orange   33.0\n",
      "3  Manggo  Yellow   44.0\n"
     ]
    },
    {
     "name": "stderr",
     "output_type": "stream",
     "text": [
      "C:\\Users\\restu\\AppData\\Local\\Temp\\ipykernel_5476\\2120701008.py:3: FutureWarning: Could not cast to float64, falling back to object. This behavior is deprecated. In a future version, when a dtype is passed to 'DataFrame', either all columns will be cast to that dtype, or a TypeError will be raised.\n",
      "  df = pd.DataFrame(lst2, columns = ['Fruits', 'Color', 'Value'], dtype=float)\n"
     ]
    }
   ],
   "source": [
    "# List 2\n",
    "lst2 = [['Apple', 'Red', 11], ['Grape', 'Green', 22], ['Orange', 'Orange', 33], ['Manggo', 'Yellow', 44]]\n",
    "df = pd.DataFrame(lst2, columns = ['Fruits', 'Color', 'Value'], dtype=float)\n",
    "print(df)"
   ]
  },
  {
   "cell_type": "code",
   "execution_count": 67,
   "id": "f4a0f85b",
   "metadata": {},
   "outputs": [
    {
     "name": "stdout",
     "output_type": "stream",
     "text": [
      "    fruit   color  Value\n",
      "0   Apple     Red     11\n",
      "1   Grape   Green     22\n",
      "2  Orange  Orange     33\n",
      "3  Manggo  Yellow     44\n"
     ]
    }
   ],
   "source": [
    "# List of Name, degree, Score\n",
    "n = ['Apple', 'Grape', 'Orange', 'Manggo']\n",
    "col = ['Red', 'Green', 'Orange', 'Yellow']\n",
    "val = [11, 22, 33, 44]\n",
    "\n",
    "# Dictionary of List\n",
    "dict = {'fruit':n, 'color' : col, 'Value' : val}\n",
    "df = pd.DataFrame(dict)\n",
    "print(df)"
   ]
  },
  {
   "cell_type": "code",
   "execution_count": 68,
   "id": "69a44d13",
   "metadata": {},
   "outputs": [
    {
     "name": "stdout",
     "output_type": "stream",
     "text": [
      "Isi my_friends indeks ke-3 adalah: Dani\n",
      "Semua teman: ada 5 orang\n",
      "Restu\n",
      "Andi\n",
      "Bayu\n",
      "Dani\n",
      "Cici\n"
     ]
    }
   ],
   "source": [
    "# Buat list untuk menampung nama-nama teman\n",
    "my_friends = [\"Restu\", \"Andi\", \"Bayu\", \"Dani\", 'Cici']\n",
    "\n",
    "# Tampilkan isi list my_friends dengan nomor ineks 3\n",
    "print('Isi my_friends indeks ke-3 adalah: {}'.format(my_friends[3]))\n",
    "\n",
    "# Tampilkan semua daftar teman\n",
    "print(\"Semua teman: ada {} orang\".format(len(my_friends)))\n",
    "for friend in my_friends :\n",
    "    print(friend)"
   ]
  },
  {
   "cell_type": "code",
   "execution_count": null,
   "id": "68ccf363",
   "metadata": {},
   "outputs": [],
   "source": []
  }
 ],
 "metadata": {
  "kernelspec": {
   "display_name": "Python 3 (ipykernel)",
   "language": "python",
   "name": "python3"
  },
  "language_info": {
   "codemirror_mode": {
    "name": "ipython",
    "version": 3
   },
   "file_extension": ".py",
   "mimetype": "text/x-python",
   "name": "python",
   "nbconvert_exporter": "python",
   "pygments_lexer": "ipython3",
   "version": "3.9.13"
  }
 },
 "nbformat": 4,
 "nbformat_minor": 5
}
